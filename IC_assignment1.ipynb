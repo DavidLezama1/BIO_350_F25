{
 "cells": [
  {
   "cell_type": "markdown",
   "id": "5feafade",
   "metadata": {},
   "source": [
    "Make a definition for a difference equation"
   ]
  },
  {
   "cell_type": "markdown",
   "id": "c364c3e1",
   "metadata": {},
   "source": []
  },
  {
   "cell_type": "code",
   "execution_count": 4,
   "id": "0496223e",
   "metadata": {},
   "outputs": [],
   "source": [
    "def N_iterative(N_0, p, number_iterations): \n",
    "#Define a function N_iterative with three parameters:\n",
    "#N_0 = initial population size\n",
    "#p = growth rate (amount added each step)\n",
    "#number_iterations = number of time steps\n",
    "    N_values = [N_0] \n",
    "    #Create a list to store population values over time, \n",
    "    #starting with the initial population size N_0\n",
    "    current_N = N_0\n",
    "    #Set the current population value to the initial population size\n",
    "    for _ in range(number_iterations): \n",
    "    #Repeat the loop for the specified number of time steps\n",
    "        current_N = current_N + p \n",
    "        #Update the current population size by adding the growth rate p\n",
    "        N_values.append(current_N) \n",
    "        #Save the updated population size in the list\n",
    "    return N_values \n",
    "    #Return the list of population values over time\n",
    "    \n",
    "\n",
    "\n"
   ]
  },
  {
   "cell_type": "code",
   "execution_count": 5,
   "id": "65aed7b2",
   "metadata": {},
   "outputs": [
    {
     "name": "stdout",
     "output_type": "stream",
     "text": [
      "[0, 2, 4, 6, 8, 10, 12, 14, 16, 18, 20]\n"
     ]
    }
   ],
   "source": [
    "#N_iterative with N_0 = 0 , p=2 and number_iterations = 10\n",
    "result = N_iterative(0, 2, 10) \n",
    "#Call the function with  N_0 = 0, p = 2, and number_iterations = 10\n",
    "print(result) \n",
    "#Print the resulting list of population sizes"
   ]
  }
 ],
 "metadata": {
  "kernelspec": {
   "display_name": "IC_assignments",
   "language": "python",
   "name": "python3"
  },
  "language_info": {
   "codemirror_mode": {
    "name": "ipython",
    "version": 3
   },
   "file_extension": ".py",
   "mimetype": "text/x-python",
   "name": "python",
   "nbconvert_exporter": "python",
   "pygments_lexer": "ipython3",
   "version": "3.13.5"
  }
 },
 "nbformat": 4,
 "nbformat_minor": 5
}
