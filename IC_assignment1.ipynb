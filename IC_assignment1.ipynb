{
 "cells": [
  {
   "cell_type": "markdown",
   "id": "5feafade",
   "metadata": {},
   "source": [
    "Make a definition for a difference equation"
   ]
  },
  {
   "cell_type": "markdown",
   "id": "c364c3e1",
   "metadata": {},
   "source": []
  },
  {
   "cell_type": "code",
   "execution_count": null,
   "id": "0496223e",
   "metadata": {},
   "outputs": [],
   "source": [
    "def N_iterative(N_0, p, number_iterations):\n",
    "    N_values = [N_0] #list of saved values\n",
    "    current_N = N_0 \n",
    "    for _ in range(number_iterations):\n",
    "        current_N = current_N + p\n",
    "        N_values.append(current_N)\n",
    "    return N_values\n",
    "\n",
    "\n"
   ]
  }
 ],
 "metadata": {
  "kernelspec": {
   "display_name": "IC1",
   "language": "python",
   "name": "python3"
  },
  "language_info": {
   "name": "python",
   "version": "-1.-1.-1"
  }
 },
 "nbformat": 4,
 "nbformat_minor": 5
}
