{
 "cells": [
  {
   "cell_type": "markdown",
   "id": "bbe7abcc",
   "metadata": {},
   "source": [
    "# Chapter 7: A Bird in the Cam I: Single-Variable Probability"
   ]
  },
  {
   "cell_type": "markdown",
   "id": "7b7d8fba",
   "metadata": {},
   "source": [
    "1. Program that takes input and answers the following questions:\n",
    "\n",
    "• Probabiltiy will find 2 eggs in 1st nest\n",
    "\n",
    "• Probability  will get 3 nests in a row with 1 egg\n",
    "\n",
    "• Average nr. of eggs per nest\n",
    "\n",
    "2. Be abl to change the following variables\n",
    "\n",
    "• How many nests with 1/2/3 eggs\n",
    "\n",
    "• How many nests in a row with 1 egg\n",
    "\n",
    "• Finally, answer the questions from 1. with the following matrix:\n",
    "\n",
    "# Nests - eggs\n",
    "\n",
    "17 - 1\n",
    "\n",
    "29 - 2\n",
    "\n",
    "7 - 3\n",
    "\n",
    "• Your program or function should be called twice in your script, once with the original numbers and the second time with the numbers above here. The program should return the answer to the 3 questions in 1."
   ]
  },
  {
   "cell_type": "code",
   "execution_count": 4,
   "id": "23ad2cae",
   "metadata": {},
   "outputs": [
    {
     "name": "stdout",
     "output_type": "stream",
     "text": [
      "Original Study:\n",
      "Probability we will find 2 eggs in 1st nest we check = 0.700\n",
      "Probability team will get 3 nests in a row with 1 egg = 0.008\n",
      "Average number of eggs per nest = 1.900\n",
      "----------------------------------------\n",
      "New Dataset (17 one-egg, 29 two-egg, 7 three-egg):\n",
      "Probability we will find 2 eggs in 1st nest we check = 0.547\n",
      "Probability team will get 3 nests in a row with 1 egg = 0.033\n",
      "Average number of eggs per nest = 1.811\n"
     ]
    }
   ],
   "source": [
    "def eagle_egg_stats(n1, n2, n3, streak_length=3):\n",
    "    \"\"\"\n",
    "    Function that calculates and returns the following answers printed:\n",
    "    1. Probability we will find 2 eggs in 1st nest\n",
    "    2. Probability we will get N nests in a row with 1 egg\n",
    "    3. Average nr. of eggs per nest\n",
    "    \"\"\"\n",
    "\n",
    "    # Calculate total numbers of nests\n",
    "    # Calcluate proabability of finding 1, 2, or 3 eggs in a nest\n",
    "    # Answer the questions above and print the results\n",
    "\n",
    "    # Total nests\n",
    "    total = n1 + n2 + n3\n",
    "\n",
    "    # Probabilities\n",
    "    p1 = n1 / total\n",
    "    p2 = n2 / total\n",
    "    p3 = n3 / total\n",
    "\n",
    "    # Question 1: Probability nest has 2 eggs\n",
    "    prob_two_eggs = p2\n",
    "\n",
    "    # Question 2: Probability of streak of 1-egg nests\n",
    "    prob_streak = p1 ** streak_length\n",
    "\n",
    "    # Question 3: Average (expected) eggs per nest\n",
    "    avg_eggs = (1 * p1) + (2 * p2) + (3 * p3)\n",
    "\n",
    "    return prob_two_eggs, prob_streak, avg_eggs\n",
    "\n",
    "\n",
    "# The program with original study values\n",
    "# 4 nests with 1 egg, 14 with 2 eggs, 2 with 3 eggs, streak length = 3\n",
    "\n",
    "orig_results = eagle_egg_stats(n1=4, n2=14, n3=2, streak_length=3)\n",
    "\n",
    "print(\"Original Study:\")\n",
    "print(f\"Probability we will find 2 eggs in 1st nest we check = {orig_results[0]:.3f}\")\n",
    "print(f\"Probability team will get 3 nests in a row with 1 egg = {orig_results[1]:.3f}\")\n",
    "print(f\"Average number of eggs per nest = {orig_results[2]:.3f}\")\n",
    "print(\"-\" * 40)\n",
    "\n",
    "\n",
    "\n",
    "\n",
    "# Program with the matrix\n",
    "# 17 nests with 1 egg, 29 with 2 eggs, 7 with 3 eggs\n",
    "\n",
    "new_results = eagle_egg_stats(n1=17, n2=29, n3=7, streak_length=3)\n",
    "\n",
    "print(\"New Dataset (17 one-egg, 29 two-egg, 7 three-egg):\")\n",
    "print(f\"Probability we will find 2 eggs in 1st nest we check = {new_results[0]:.3f}\")\n",
    "print(f\"Probability team will get 3 nests in a row with 1 egg = {new_results[1]:.3f}\")\n",
    "print(f\"Average number of eggs per nest = {new_results[2]:.3f}\")\n"
   ]
  }
 ],
 "metadata": {
  "kernelspec": {
   "display_name": "IC_assignments",
   "language": "python",
   "name": "python3"
  },
  "language_info": {
   "codemirror_mode": {
    "name": "ipython",
    "version": 3
   },
   "file_extension": ".py",
   "mimetype": "text/x-python",
   "name": "python",
   "nbconvert_exporter": "python",
   "pygments_lexer": "ipython3",
   "version": "3.13.5"
  }
 },
 "nbformat": 4,
 "nbformat_minor": 5
}
