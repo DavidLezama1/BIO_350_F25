{
 "cells": [
  {
   "cell_type": "code",
   "execution_count": 1,
   "id": "d97eb1e4",
   "metadata": {},
   "outputs": [],
   "source": [
    "#    #How long to full the 2m x 2m plot?\n",
    "import numpy as np\n",
    "import matplotlib.pyplot as plt\n"
   ]
  }
 ],
 "metadata": {
  "kernelspec": {
   "display_name": "IC_assignments",
   "language": "python",
   "name": "python3"
  },
  "language_info": {
   "codemirror_mode": {
    "name": "ipython",
    "version": 3
   },
   "file_extension": ".py",
   "mimetype": "text/x-python",
   "name": "python",
   "nbconvert_exporter": "python",
   "pygments_lexer": "ipython3",
   "version": "3.13.5"
  }
 },
 "nbformat": 4,
 "nbformat_minor": 5
}
