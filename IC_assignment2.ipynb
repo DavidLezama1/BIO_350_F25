{
 "cells": [
  {
   "cell_type": "markdown",
   "id": "9d673bb8",
   "metadata": {},
   "source": [
    "Chapter 2 of Q. Ecology Handbook\n",
    "\n",
    "-Calculating how quickly duckweed witl cover a pond"
   ]
  }
 ],
 "metadata": {
  "kernelspec": {
   "display_name": "IC1",
   "language": "python",
   "name": "python3"
  },
  "language_info": {
   "name": "python",
   "version": "undefined.undefined.undefined"
  }
 },
 "nbformat": 4,
 "nbformat_minor": 5
}
